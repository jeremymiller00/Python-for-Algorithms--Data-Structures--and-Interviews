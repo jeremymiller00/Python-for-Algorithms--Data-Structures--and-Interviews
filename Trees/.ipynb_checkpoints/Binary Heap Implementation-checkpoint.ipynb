{
 "cells": [
  {
   "cell_type": "markdown",
   "metadata": {},
   "source": [
    "# Binary Heap Implementation\n",
    "\n",
    "Here is the reference code for the Binary Heap Implementation. Make sure to refer to the video lecture for the full explanation!"
   ]
  },
  {
   "cell_type": "markdown",
   "metadata": {},
   "source": [
    "### Binary Heap Operations\n",
    "**The basic operations we will implement for our binary heap are as follows:**\n",
    "\n",
    "* BinaryHeap() creates a new, empty, binary heap.\n",
    "* insert(k) adds a new item to the heap.\n",
    "* findMin() returns the item with the minimum key value, leaving item in the heap.\n",
    "* delMin() returns the item with the minimum key value, removing the item from the heap.\n",
    "* isEmpty() returns true if the heap is empty, false otherwise.\n",
    "* size() returns the number of items in the heap.\n",
    "* buildHeap(list) builds a new heap from a list of keys."
   ]
  },
  {
   "cell_type": "code",
   "execution_count": null,
   "metadata": {},
   "outputs": [],
   "source": [
    "class BinaryHeap:\n",
    "    \n",
    "    def __init__(self):\n",
    "        '''\n",
    "        a binary heap represented as a Python list\n",
    "        '''\n",
    "        self.heapList = [0]\n",
    "        self.currentSize = 0\n",
    "    \n",
    "    def _percUp(self,i):\n",
    "        '''\n",
    "        move item up the heap to maintain heap property\n",
    "        '''\n",
    "        while i//2 > 0:\n",
    "            if self.heaplist[i] < self.heapList[i//2]:\n",
    "                tmp = self.heapList[i//2]\n",
    "                self.heapList[i//2] = self.heapList[i]\n",
    "                self.heapList[i] = tmp\n",
    "            i = i//2\n",
    "        \n",
    "    def insert(self, k):\n",
    "        '''\n",
    "        adds new item to the heap\n",
    "        '''\n",
    "        self.heapList.append(k)\n",
    "        self.currentSize += 1\n",
    "        self._percUp(self.currentSize)\n",
    "    \n",
    "    def findMin(self):\n",
    "        '''\n",
    "        returns item with min key value, leaving item in the heap\n",
    "        '''\n",
    "        return self.heapList[1]\n",
    "    \n",
    "    def _percDown(self, i):\n",
    "        '''\n",
    "        swap root with smallest child that is less than the root\n",
    "        continue until root is less that both its children\n",
    "        '''\n",
    "        while (i*2) < self.currentSize:\n",
    "            mc = self._minChild(i)\n",
    "            if self.heapList[i] > self.heapList[mc]:\n",
    "                tmp = self.heapList[i]\n",
    "                self.heapList[i] = self.heapList[mc]\n",
    "                self.heapList[mc] = tmp\n",
    "            i = mc\n",
    "        \n",
    "    def _minChild(self, i):\n",
    "        '''\n",
    "        return the index of the smaller of two child nodes\n",
    "        '''\n",
    "        if i*2+1 > self.currentSize:\n",
    "            return i*2\n",
    "        else:\n",
    "            if self.heapList[i*2] < if self.heapList[i*2+1]:\n",
    "                return i*2\n",
    "            else:\n",
    "                return i*2+1\n",
    "        \n",
    "    \n",
    "    def delMin(self):\n",
    "        '''\n",
    "        returns item with min key value, removing item from the heap\n",
    "        remove first item\n",
    "        move last item to first position, maintains heap structure property\n",
    "        percolate down the first item, restores heap order property\n",
    "        '''\n",
    "        retval = self.heapList[1]\n",
    "        self.heapList[1] = self.heapList[self.currentSize]\n",
    "        self.currentSize -= 1\n",
    "        self.heapList.pop()\n",
    "        self._percDown(1)\n",
    "        return retval\n",
    "        \n",
    "    \n",
    "    def minChild(self, i):\n",
    "        # check if node has two children, if not return first child\n",
    "        if i*2+1 > self.currentSize:\n",
    "            return i*2\n",
    "        if self.heapList[i*2] < self.heapList[i*2+1]:\n",
    "            return i*2\n",
    "        return i*2+1\n",
    "    \n",
    "        \n",
    "    def isEmpty() -> bool:\n",
    "        \n",
    "        \n",
    "    def size() -> int:\n",
    "        '''\n",
    "        returns the number of items in the heap\n",
    "        '''\n",
    "    \n",
    "    def buildHeap(self, lst):\n",
    "        '''\n",
    "        builds a new heap from a list of keys\n",
    "        '''\n",
    "        i = len(lst) // 2\n",
    "        self.currentSize = len(lst)\n",
    "        self.heapList = [0] + lst[:]\n",
    "        while i > 0:\n",
    "            self.percDown(i)\n",
    "            i -= 1"
   ]
  },
  {
   "cell_type": "code",
   "execution_count": null,
   "metadata": {},
   "outputs": [],
   "source": []
  },
  {
   "cell_type": "code",
   "execution_count": 1,
   "metadata": {},
   "outputs": [],
   "source": [
    "l=[1,2,3,4,5]"
   ]
  },
  {
   "cell_type": "code",
   "execution_count": 2,
   "metadata": {},
   "outputs": [
    {
     "data": {
      "text/plain": [
       "[1, 2, 3, 4, 5]"
      ]
     },
     "execution_count": 2,
     "metadata": {},
     "output_type": "execute_result"
    }
   ],
   "source": [
    "l[:]"
   ]
  },
  {
   "cell_type": "code",
   "execution_count": null,
   "metadata": {},
   "outputs": [],
   "source": []
  },
  {
   "cell_type": "code",
   "execution_count": null,
   "metadata": {},
   "outputs": [],
   "source": []
  },
  {
   "cell_type": "code",
   "execution_count": null,
   "metadata": {},
   "outputs": [],
   "source": []
  },
  {
   "cell_type": "code",
   "execution_count": null,
   "metadata": {},
   "outputs": [],
   "source": []
  },
  {
   "cell_type": "code",
   "execution_count": null,
   "metadata": {},
   "outputs": [],
   "source": []
  },
  {
   "cell_type": "code",
   "execution_count": null,
   "metadata": {},
   "outputs": [],
   "source": []
  },
  {
   "cell_type": "code",
   "execution_count": null,
   "metadata": {},
   "outputs": [],
   "source": []
  },
  {
   "cell_type": "code",
   "execution_count": null,
   "metadata": {},
   "outputs": [],
   "source": []
  },
  {
   "cell_type": "code",
   "execution_count": null,
   "metadata": {},
   "outputs": [],
   "source": []
  },
  {
   "cell_type": "code",
   "execution_count": 1,
   "metadata": {
    "collapsed": true
   },
   "outputs": [],
   "source": [
    "class BinHeap:\n",
    "    def __init__(self):\n",
    "        self.heapList = [0]\n",
    "        self.currentSize = 0\n",
    "\n",
    "\n",
    "    def percUp(self,i):\n",
    "        \n",
    "        while i // 2 > 0:\n",
    "            \n",
    "            if self.heapList[i] < self.heapList[i // 2]:\n",
    "                \n",
    "            \n",
    "                tmp = self.heapList[i // 2]\n",
    "                self.heapList[i // 2] = self.heapList[i]\n",
    "                self.heapList[i] = tmp\n",
    "            i = i // 2\n",
    "\n",
    "    def insert(self,k):\n",
    "        \n",
    "        self.heapList.append(k)\n",
    "        self.currentSize = self.currentSize + 1\n",
    "        self.percUp(self.currentSize)\n",
    "\n",
    "    def percDown(self,i):\n",
    "        \n",
    "        while (i * 2) <= self.currentSize:\n",
    "            \n",
    "            mc = self.minChild(i)\n",
    "            if self.heapList[i] > self.heapList[mc]:\n",
    "                \n",
    "                tmp = self.heapList[i]\n",
    "                self.heapList[i] = self.heapList[mc]\n",
    "                self.heapList[mc] = tmp\n",
    "            i = mc\n",
    "\n",
    "    def minChild(self,i):\n",
    "        \n",
    "        if i * 2 + 1 > self.currentSize:\n",
    "            \n",
    "            return i * 2\n",
    "        else:\n",
    "            \n",
    "            if self.heapList[i*2] < self.heapList[i*2+1]:\n",
    "                return i * 2\n",
    "            else:\n",
    "                return i * 2 + 1\n",
    "\n",
    "    def delMin(self):\n",
    "        retval = self.heapList[1]\n",
    "        self.heapList[1] = self.heapList[self.currentSize]\n",
    "        self.currentSize = self.currentSize - 1\n",
    "        self.heapList.pop()\n",
    "        self.percDown(1)\n",
    "        return retval\n",
    "\n",
    "    def buildHeap(self,alist):\n",
    "        i = len(alist) // 2\n",
    "        self.currentSize = len(alist)\n",
    "        self.heapList = [0] + alist[:]\n",
    "        while (i > 0):\n",
    "            self.percDown(i)\n",
    "            i = i - 1"
   ]
  },
  {
   "cell_type": "code",
   "execution_count": null,
   "metadata": {
    "collapsed": true
   },
   "outputs": [],
   "source": []
  }
 ],
 "metadata": {
  "hide_input": false,
  "kernelspec": {
   "display_name": "Python 3",
   "language": "python",
   "name": "python3"
  },
  "language_info": {
   "codemirror_mode": {
    "name": "ipython",
    "version": 3
   },
   "file_extension": ".py",
   "mimetype": "text/x-python",
   "name": "python",
   "nbconvert_exporter": "python",
   "pygments_lexer": "ipython3",
   "version": "3.7.7"
  }
 },
 "nbformat": 4,
 "nbformat_minor": 1
}
