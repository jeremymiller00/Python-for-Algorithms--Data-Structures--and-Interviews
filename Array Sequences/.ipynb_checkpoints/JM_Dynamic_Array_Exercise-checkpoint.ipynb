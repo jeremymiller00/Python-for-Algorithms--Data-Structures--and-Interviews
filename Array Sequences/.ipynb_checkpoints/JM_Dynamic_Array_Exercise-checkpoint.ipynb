{
 "cells": [
  {
   "cell_type": "markdown",
   "metadata": {},
   "source": [
    "Dynamic Array Implementation"
   ]
  },
  {
   "cell_type": "code",
   "execution_count": 17,
   "metadata": {},
   "outputs": [],
   "source": [
    "import ctypes\n",
    "import sys\n",
    "import random"
   ]
  },
  {
   "cell_type": "code",
   "execution_count": 4,
   "metadata": {},
   "outputs": [],
   "source": [
    "class DynamicArray(object):\n",
    "    \n",
    "    def __init__(self):\n",
    "        self.n = 0\n",
    "        self.capacity = 1\n",
    "        self.A = self.make_array(self.capacity)\n",
    "        \n",
    "    def __len__(self):\n",
    "        return self.n\n",
    "    \n",
    "    def __getitem__(self, k):\n",
    "        if not 0 <= k < self.n:\n",
    "            return IndexError('K is out of bounds!')\n",
    "        return self.A[k]\n",
    "    \n",
    "    def append(self, ele):\n",
    "        if self.n == self.capacity:\n",
    "            self._resize(2*self.capacity)\n",
    "        self.A[self.n] = ele\n",
    "        self.n += 1\n",
    "        \n",
    "    def _resize(self, new_capacity):\n",
    "        B = self.make_array(new_capacity)\n",
    "        for k in range(self.n):\n",
    "            B[k] = self.A[k]\n",
    "        self.A = B\n",
    "        self.capacity = new_capacity\n",
    "        \n",
    "    def make_array(self, new_capacity):\n",
    "        return (new_capacity * ctypes.py_object)()"
   ]
  },
  {
   "cell_type": "code",
   "execution_count": 34,
   "metadata": {},
   "outputs": [],
   "source": [
    "arr = DynamicArray()"
   ]
  },
  {
   "cell_type": "code",
   "execution_count": 35,
   "metadata": {},
   "outputs": [
    {
     "name": "stdout",
     "output_type": "stream",
     "text": [
      "Elements: 1 Size: 64\n",
      "Elements: 1001 Size: 64\n",
      "Elements: 2001 Size: 64\n",
      "Elements: 3001 Size: 64\n",
      "Elements: 4001 Size: 64\n",
      "Elements: 5001 Size: 64\n",
      "Elements: 6001 Size: 64\n",
      "Elements: 7001 Size: 64\n",
      "Elements: 8001 Size: 64\n",
      "Elements: 9001 Size: 64\n"
     ]
    }
   ],
   "source": [
    "arr = DynamicArray()\n",
    "for i in range(10000):\n",
    "    e = random.randint(0, 1000)\n",
    "    arr.append(e)\n",
    "    if i % 1000 == 0:\n",
    "        print(f\"Elements: {len(arr)} Size: {sys.getsizeof(arr)}\")"
   ]
  },
  {
   "cell_type": "code",
   "execution_count": 36,
   "metadata": {},
   "outputs": [
    {
     "name": "stdout",
     "output_type": "stream",
     "text": [
      "Elements: 1 Size: 104\n",
      "Elements: 1001 Size: 9032\n",
      "Elements: 2001 Size: 16568\n",
      "Elements: 3001 Size: 26744\n",
      "Elements: 4001 Size: 33936\n",
      "Elements: 5001 Size: 43048\n",
      "Elements: 6001 Size: 48472\n",
      "Elements: 7001 Size: 61440\n",
      "Elements: 8001 Size: 69168\n",
      "Elements: 9001 Size: 77856\n"
     ]
    }
   ],
   "source": [
    "l = []\n",
    "for i in range(10000):\n",
    "    e = random.randint(0, 1000)\n",
    "    l.append(e)\n",
    "    if i % 1000 == 0:\n",
    "        print(f\"Elements: {len(l)} Size: {sys.getsizeof(l)}\")"
   ]
  },
  {
   "cell_type": "code",
   "execution_count": 9,
   "metadata": {},
   "outputs": [],
   "source": [
    "arr.append(2)"
   ]
  },
  {
   "cell_type": "code",
   "execution_count": 10,
   "metadata": {},
   "outputs": [
    {
     "data": {
      "text/plain": [
       "2"
      ]
     },
     "execution_count": 10,
     "metadata": {},
     "output_type": "execute_result"
    }
   ],
   "source": [
    "len(arr)"
   ]
  },
  {
   "cell_type": "code",
   "execution_count": 11,
   "metadata": {},
   "outputs": [
    {
     "data": {
      "text/plain": [
       "1"
      ]
     },
     "execution_count": 11,
     "metadata": {},
     "output_type": "execute_result"
    }
   ],
   "source": [
    "arr[0]"
   ]
  },
  {
   "cell_type": "code",
   "execution_count": 12,
   "metadata": {},
   "outputs": [
    {
     "data": {
      "text/plain": [
       "2"
      ]
     },
     "execution_count": 12,
     "metadata": {},
     "output_type": "execute_result"
    }
   ],
   "source": [
    "arr[1]"
   ]
  },
  {
   "cell_type": "code",
   "execution_count": 14,
   "metadata": {},
   "outputs": [],
   "source": [
    "arr.append(5)"
   ]
  },
  {
   "cell_type": "code",
   "execution_count": 15,
   "metadata": {},
   "outputs": [
    {
     "data": {
      "text/plain": [
       "4"
      ]
     },
     "execution_count": 15,
     "metadata": {},
     "output_type": "execute_result"
    }
   ],
   "source": [
    "arr.capacity"
   ]
  },
  {
   "cell_type": "code",
   "execution_count": null,
   "metadata": {},
   "outputs": [],
   "source": []
  }
 ],
 "metadata": {
  "hide_input": false,
  "kernelspec": {
   "display_name": "Python 3",
   "language": "python",
   "name": "python3"
  },
  "language_info": {
   "codemirror_mode": {
    "name": "ipython",
    "version": 3
   },
   "file_extension": ".py",
   "mimetype": "text/x-python",
   "name": "python",
   "nbconvert_exporter": "python",
   "pygments_lexer": "ipython3",
   "version": "3.7.7"
  }
 },
 "nbformat": 4,
 "nbformat_minor": 4
}
